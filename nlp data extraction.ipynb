{
 "cells": [
  {
   "cell_type": "code",
   "execution_count": 81,
   "metadata": {
    "collapsed": false
   },
   "outputs": [],
   "source": [
    "import pandas as pd\n",
    "import re\n",
    "import numpy as np\n",
    "import matplotlib.pyplot as plt\n",
    "import math\n",
    "import csv"
   ]
  },
  {
   "cell_type": "code",
   "execution_count": 2,
   "metadata": {
    "collapsed": false
   },
   "outputs": [],
   "source": [
    "splitCompo = pd.read_csv(\"/home/sourav/Desktop/nlp project/nlpSpliComp.txt\", sep='\\t').drop(0)\n"
   ]
  },
  {
   "cell_type": "code",
   "execution_count": 3,
   "metadata": {
    "collapsed": false
   },
   "outputs": [
    {
     "name": "stdout",
     "output_type": "stream",
     "text": [
      "Index([u'compound', u'modifier1(|modifier2)', u'head'], dtype='object')\n",
      "66241\n"
     ]
    }
   ],
   "source": [
    "print splitCompo.columns\n",
    "print splitCompo.shape[0]"
   ]
  },
  {
   "cell_type": "code",
   "execution_count": 4,
   "metadata": {
    "collapsed": false
   },
   "outputs": [],
   "source": [
    "compoundsWithHypNumbers = splitCompo[~splitCompo['compound'].str.contains('-',flags = re.IGNORECASE)]"
   ]
  },
  {
   "cell_type": "code",
   "execution_count": 5,
   "metadata": {
    "collapsed": false
   },
   "outputs": [
    {
     "name": "stdout",
     "output_type": "stream",
     "text": [
      "     compound modifier1(|modifier2)    head\n",
      "36   Aalfisch                   Aal   Fisch\n",
      "37  Aalmutter                   Aal  Mutter\n",
      "38  Aalstrich                   Aal  Strich\n",
      "39   Aalsuppe                   Aal   Suppe\n",
      "40    Aaretal                  Aare     Tal\n",
      "64530\n"
     ]
    }
   ],
   "source": [
    "print compoundsWithHypNumbers.head(5)\n",
    "print compoundsWithHypNumbers.shape[0]"
   ]
  },
  {
   "cell_type": "code",
   "execution_count": 6,
   "metadata": {
    "collapsed": false
   },
   "outputs": [],
   "source": [
    "compoundsWithHypNumbers.columns = ['compound','comp1','comp2']\n",
    "comp1Freq = compoundsWithHypNumbers.comp1.value_counts()\n",
    "comp2Freq = compoundsWithHypNumbers.comp2.value_counts()"
   ]
  },
  {
   "cell_type": "code",
   "execution_count": 17,
   "metadata": {
    "collapsed": false
   },
   "outputs": [
    {
     "name": "stdout",
     "output_type": "stream",
     "text": [
      "10663\n",
      "8216\n"
     ]
    }
   ],
   "source": [
    "print comp1Freq.size\n",
    "print comp2Freq.size\n",
    "comp1Freq = comp1Freq.to_dict()\n",
    "comp2Freq = comp2Freq.to_dict()\n",
    "# total compounds = 66241\n",
    "# after removing hyphen containing elemnts = 64530\n",
    "# unique components in comp1 = 10663\n",
    "# unique components in comp2 = 8216"
   ]
  },
  {
   "cell_type": "code",
   "execution_count": 8,
   "metadata": {
    "collapsed": false
   },
   "outputs": [
    {
     "data": {
      "text/plain": [
       "<matplotlib.axes._subplots.AxesSubplot at 0x7f7c1ea60ad0>"
      ]
     },
     "execution_count": 8,
     "metadata": {},
     "output_type": "execute_result"
    },
    {
     "data": {
      "image/png": "[encoded data removed]",
      "text/plain": [
       "<matplotlib.figure.Figure at 0x7f7c1ea50990>"
      ]
     },
     "metadata": {},
     "output_type": "display_data"
    }
   ],
   "source": [
    "%matplotlib inline\n",
    "comp1Freq.plot.line()\n",
    "\n",
    "\n"
   ]
  },
  {
   "cell_type": "code",
   "execution_count": 9,
   "metadata": {
    "collapsed": false
   },
   "outputs": [],
   "source": [
    "comp1Elems = np.asarray(comp1Freq.keys())\n",
    "comp2Elems = np.asarray(comp2Freq.keys())"
   ]
  },
  {
   "cell_type": "code",
   "execution_count": 15,
   "metadata": {
    "collapsed": false
   },
   "outputs": [],
   "source": [
    "len(set(comp1Elems).intersection(comp2Elems))\n",
    "allElems = set(comp1Elems).union(comp2Elems)"
   ]
  },
  {
   "cell_type": "code",
   "execution_count": 14,
   "metadata": {
    "collapsed": true
   },
   "outputs": [],
   "source": [
    "# common components in both = 3880"
   ]
  },
  {
   "cell_type": "code",
   "execution_count": 16,
   "metadata": {
    "collapsed": false
   },
   "outputs": [
    {
     "data": {
      "text/plain": [
       "14999"
      ]
     },
     "execution_count": 16,
     "metadata": {},
     "output_type": "execute_result"
    }
   ],
   "source": [
    "len(allElems)"
   ]
  },
  {
   "cell_type": "code",
   "execution_count": 65,
   "metadata": {
    "collapsed": true
   },
   "outputs": [],
   "source": [
    "epsilon = 1E-10\n",
    "freqDict = {}\n",
    "for elem in allElems:\n",
    "    if comp1Freq.has_key(elem):\n",
    "        if comp2Freq.has_key(elem):\n",
    "            freqDict[elem] = [comp1Freq[elem],comp2Freq[elem]]\n",
    "        else:\n",
    "            freqDict[elem] = [comp1Freq[elem],epsilon]\n",
    "    else:\n",
    "        if comp2Freq.has_key(elem):\n",
    "            freqDict[elem] = [epsilon,comp2Freq[elem]]"
   ]
  },
  {
   "cell_type": "code",
   "execution_count": 66,
   "metadata": {
    "collapsed": false
   },
   "outputs": [
    {
     "data": {
      "text/plain": [
       "[367, 1e-10]"
      ]
     },
     "execution_count": 66,
     "metadata": {},
     "output_type": "execute_result"
    }
   ],
   "source": [
    "freqDict['haupt']"
   ]
  },
  {
   "cell_type": "code",
   "execution_count": 69,
   "metadata": {
    "collapsed": false
   },
   "outputs": [],
   "source": [
    "def entropyFunc1(a,b):\n",
    "    p = (a*1.0)/(1.0*(a+b))\n",
    "    pNot = 1.0-p\n",
    "    return -(p*math.log(p)+pNot*math.log(pNot))"
   ]
  },
  {
   "cell_type": "code",
   "execution_count": 90,
   "metadata": {
    "collapsed": false
   },
   "outputs": [],
   "source": [
    "entropyDict = {}\n",
    "for elem in allElems:\n",
    "    val = freqDict[elem]\n",
    "    entropyDict[elem] = [entropyFunc1(val[0],val[1]),val[0],val[1]]"
   ]
  },
  {
   "cell_type": "code",
   "execution_count": 91,
   "metadata": {
    "collapsed": false
   },
   "outputs": [],
   "source": [
    "def sortDict(x):\n",
    "    import operator\n",
    "    sorted_x = sorted(x.items(), key=operator.itemgetter(1),reverse=True)\n",
    "    return sorted_x"
   ]
  },
  {
   "cell_type": "code",
   "execution_count": 92,
   "metadata": {
    "collapsed": false
   },
   "outputs": [],
   "source": [
    "sortedEntr = sortDict(entropyDict)"
   ]
  },
  {
   "cell_type": "code",
   "execution_count": 93,
   "metadata": {
    "collapsed": false
   },
   "outputs": [],
   "source": [
    "# print sortedEntr"
   ]
  },
  {
   "cell_type": "code",
   "execution_count": 95,
   "metadata": {
    "collapsed": false
   },
   "outputs": [],
   "source": [
    "with open('entropyWithComponentsCount.csv', 'wb') as csv_file:\n",
    "    writer = csv.writer(csv_file)\n",
    "    for key, value in sortedEntr:\n",
    "        writer.writerow([key, value[0], value[1], value[2]])"
   ]
  },
  {
   "cell_type": "code",
   "execution_count": null,
   "metadata": {
    "collapsed": false
   },
   "outputs": [],
   "source": []
  },
  {
   "cell_type": "code",
   "execution_count": null,
   "metadata": {
    "collapsed": true
   },
   "outputs": [],
   "source": []
  }
 ],
 "metadata": {
  "kernelspec": {
   "display_name": "Python 2",
   "language": "python",
   "name": "python2"
  },
  "language_info": {
   "codemirror_mode": {
    "name": "ipython",
    "version": 2
   },
   "file_extension": ".py",
   "mimetype": "text/x-python",
   "name": "python",
   "nbconvert_exporter": "python",
   "pygments_lexer": "ipython2",
   "version": "2.7.6"
  }
 },
 "nbformat": 4,
 "nbformat_minor": 0
}
